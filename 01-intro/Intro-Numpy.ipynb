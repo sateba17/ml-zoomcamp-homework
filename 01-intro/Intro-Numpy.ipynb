{
 "cells": [
  {
   "cell_type": "markdown",
   "id": "e8d6a0df-28ad-4ad4-a55b-55b3f83b9c3e",
   "metadata": {},
   "source": [
    "## 1.7 Introduction to Numpy"
   ]
  },
  {
   "cell_type": "code",
   "execution_count": 1,
   "id": "760dd7cd-e137-4a94-a079-d853889ae28e",
   "metadata": {},
   "outputs": [],
   "source": [
    "import numpy as np"
   ]
  },
  {
   "cell_type": "markdown",
   "id": "6b3af84d-25ec-4891-a678-80d076236c42",
   "metadata": {},
   "source": [
    "### Arrays"
   ]
  },
  {
   "cell_type": "code",
   "execution_count": 2,
   "id": "12c0dcda-fc87-4c2a-b317-a51f3a2bc75f",
   "metadata": {},
   "outputs": [
    {
     "data": {
      "text/plain": [
       "array([0., 0., 0., 0., 0., 0., 0., 0., 0., 0.])"
      ]
     },
     "execution_count": 2,
     "metadata": {},
     "output_type": "execute_result"
    }
   ],
   "source": [
    "np.zeros(10)"
   ]
  },
  {
   "cell_type": "code",
   "execution_count": 3,
   "id": "355fd605-89ac-4e24-a059-b97d57194af6",
   "metadata": {},
   "outputs": [
    {
     "data": {
      "text/plain": [
       "array([1., 1., 1., 1., 1.])"
      ]
     },
     "execution_count": 3,
     "metadata": {},
     "output_type": "execute_result"
    }
   ],
   "source": [
    "np.ones(5)"
   ]
  },
  {
   "cell_type": "code",
   "execution_count": 4,
   "id": "0377a165-5cb0-4341-b18c-ec6aa39f4ac7",
   "metadata": {},
   "outputs": [
    {
     "data": {
      "text/plain": [
       "array([2.5, 2.5, 2.5, 2.5, 2.5, 2.5, 2.5, 2.5, 2.5, 2.5])"
      ]
     },
     "execution_count": 4,
     "metadata": {},
     "output_type": "execute_result"
    }
   ],
   "source": [
    "np.full(10,2.5)"
   ]
  },
  {
   "cell_type": "code",
   "execution_count": 6,
   "id": "b4961778-9bcf-476e-a307-b8771cfff78a",
   "metadata": {},
   "outputs": [
    {
     "data": {
      "text/plain": [
       "array([1, 2, 3, 4, 5])"
      ]
     },
     "execution_count": 6,
     "metadata": {},
     "output_type": "execute_result"
    }
   ],
   "source": [
    "arr = np.array([1,2,3,4,5])\n",
    "arr"
   ]
  },
  {
   "cell_type": "code",
   "execution_count": 7,
   "id": "4dc731d0-0680-4aff-ab15-5f3bcb6d8048",
   "metadata": {},
   "outputs": [],
   "source": [
    "arr[2]=10"
   ]
  },
  {
   "cell_type": "code",
   "execution_count": 8,
   "id": "f62143fd-24e1-472c-a90f-4a097bad6fd5",
   "metadata": {},
   "outputs": [
    {
     "data": {
      "text/plain": [
       "array([ 1,  2, 10,  4,  5])"
      ]
     },
     "execution_count": 8,
     "metadata": {},
     "output_type": "execute_result"
    }
   ],
   "source": [
    "arr"
   ]
  },
  {
   "cell_type": "code",
   "execution_count": 9,
   "id": "1b647a7f-712d-4cdf-a7f1-8f17f085adb8",
   "metadata": {},
   "outputs": [
    {
     "data": {
      "text/plain": [
       "array([3, 4, 5, 6, 7, 8, 9])"
      ]
     },
     "execution_count": 9,
     "metadata": {},
     "output_type": "execute_result"
    }
   ],
   "source": [
    "np.arange(3,10)"
   ]
  },
  {
   "cell_type": "code",
   "execution_count": 10,
   "id": "d5d75e8c-b1ba-4572-8f06-f630bbe5e733",
   "metadata": {},
   "outputs": [
    {
     "data": {
      "text/plain": [
       "array([  0.,  10.,  20.,  30.,  40.,  50.,  60.,  70.,  80.,  90., 100.])"
      ]
     },
     "execution_count": 10,
     "metadata": {},
     "output_type": "execute_result"
    }
   ],
   "source": [
    "np.linspace(0,100,11)"
   ]
  },
  {
   "cell_type": "markdown",
   "id": "48db213c-d4e5-462f-9211-61fe376aade4",
   "metadata": {},
   "source": [
    "### Multi-dimensional arrays"
   ]
  },
  {
   "cell_type": "code",
   "execution_count": 11,
   "id": "ee1a936b-f81d-4b6e-ba70-a58f8cf3dc2f",
   "metadata": {},
   "outputs": [
    {
     "data": {
      "text/plain": [
       "array([[0., 0.],\n",
       "       [0., 0.],\n",
       "       [0., 0.],\n",
       "       [0., 0.],\n",
       "       [0., 0.]])"
      ]
     },
     "execution_count": 11,
     "metadata": {},
     "output_type": "execute_result"
    }
   ],
   "source": [
    "np.zeros((5,2))"
   ]
  },
  {
   "cell_type": "code",
   "execution_count": 15,
   "id": "7a68b142-f66e-416a-8f67-4694f1e610a1",
   "metadata": {},
   "outputs": [],
   "source": [
    "marr = np.array([\n",
    "    [1,2,3],\n",
    "    [4,5,6],\n",
    "    [7,8,9]\n",
    "])"
   ]
  },
  {
   "cell_type": "code",
   "execution_count": 17,
   "id": "07b5fbd7-9a7e-4244-b49f-c79028d819f0",
   "metadata": {},
   "outputs": [
    {
     "data": {
      "text/plain": [
       "array([3, 6, 9])"
      ]
     },
     "execution_count": 17,
     "metadata": {},
     "output_type": "execute_result"
    }
   ],
   "source": [
    "marr[:,2]"
   ]
  },
  {
   "cell_type": "code",
   "execution_count": 18,
   "id": "fe001564-7719-400b-b21b-b3032e63a7b9",
   "metadata": {},
   "outputs": [
    {
     "data": {
      "text/plain": [
       "array([[ 1,  2, 30],\n",
       "       [ 4,  5, 60],\n",
       "       [ 7,  8, 90]])"
      ]
     },
     "execution_count": 18,
     "metadata": {},
     "output_type": "execute_result"
    }
   ],
   "source": [
    "marr[:,2]=[30,60,90]\n",
    "marr"
   ]
  },
  {
   "cell_type": "markdown",
   "id": "63c9eddf-7fcc-4f3f-9f7b-dcfc20129966",
   "metadata": {},
   "source": [
    "### Randomly Generated Arrays"
   ]
  },
  {
   "cell_type": "code",
   "execution_count": 19,
   "id": "733ed6f6-c100-4fa9-8339-a42d3e96c87d",
   "metadata": {},
   "outputs": [
    {
     "data": {
      "text/plain": [
       "array([[0.19208785, 0.26351113],\n",
       "       [0.01859562, 0.08370141],\n",
       "       [0.81284332, 0.61891177],\n",
       "       [0.18285811, 0.86142497],\n",
       "       [0.55595996, 0.1467191 ]])"
      ]
     },
     "execution_count": 19,
     "metadata": {},
     "output_type": "execute_result"
    }
   ],
   "source": [
    "np.random.rand(5,2)"
   ]
  },
  {
   "cell_type": "code",
   "execution_count": 20,
   "id": "68793f3f-d5ff-40e5-ba1a-58c3ffdfe74f",
   "metadata": {},
   "outputs": [
    {
     "data": {
      "text/plain": [
       "array([[0.01896996, 0.66176943],\n",
       "       [0.66773195, 0.94140347],\n",
       "       [0.67862126, 0.86625313],\n",
       "       [0.82087407, 0.29223073],\n",
       "       [0.33289474, 0.88126357]])"
      ]
     },
     "execution_count": 20,
     "metadata": {},
     "output_type": "execute_result"
    }
   ],
   "source": [
    "np.random.rand(5,2)"
   ]
  },
  {
   "cell_type": "code",
   "execution_count": 21,
   "id": "c58fa7af-d1a1-44c3-a099-9fb112ac7771",
   "metadata": {},
   "outputs": [
    {
     "data": {
      "text/plain": [
       "array([[0.47181029, 0.73777673],\n",
       "       [0.0482814 , 0.77252494],\n",
       "       [0.88558411, 0.40098752],\n",
       "       [0.61143106, 0.22748472],\n",
       "       [0.12344213, 0.19428909]])"
      ]
     },
     "execution_count": 21,
     "metadata": {},
     "output_type": "execute_result"
    }
   ],
   "source": [
    "np.random.rand(5,2)"
   ]
  },
  {
   "cell_type": "markdown",
   "id": "f2684804-e33d-4c00-b9a5-864bdeed7ce5",
   "metadata": {},
   "source": [
    "- Lets fix the random generated numbers so that it matches for different users doing it on different computer by adding the SEED Function"
   ]
  },
  {
   "cell_type": "code",
   "execution_count": 24,
   "id": "efaca7ba-9c1a-431d-b121-965b415cdffe",
   "metadata": {},
   "outputs": [
    {
     "data": {
      "text/plain": [
       "array([[0.4359949 , 0.02592623],\n",
       "       [0.54966248, 0.43532239],\n",
       "       [0.4203678 , 0.33033482],\n",
       "       [0.20464863, 0.61927097],\n",
       "       [0.29965467, 0.26682728]])"
      ]
     },
     "execution_count": 24,
     "metadata": {},
     "output_type": "execute_result"
    }
   ],
   "source": [
    "np.random.seed(2)\n",
    "np.random.rand(5,2)"
   ]
  },
  {
   "cell_type": "markdown",
   "id": "7dea76f0-0a26-4b8f-a62e-83705e6b28aa",
   "metadata": {},
   "source": [
    "### Element-wise operations"
   ]
  },
  {
   "cell_type": "code",
   "execution_count": 26,
   "id": "534a95d3-f5c1-4805-9916-e3ba22e31abf",
   "metadata": {},
   "outputs": [
    {
     "data": {
      "text/plain": [
       "array([0, 1, 2, 3, 4])"
      ]
     },
     "execution_count": 26,
     "metadata": {},
     "output_type": "execute_result"
    }
   ],
   "source": [
    "a = np.arange(5)\n",
    "a"
   ]
  },
  {
   "cell_type": "code",
   "execution_count": 27,
   "id": "e1ae2212-03a5-413c-9587-5e6ffd79f3a1",
   "metadata": {},
   "outputs": [
    {
     "data": {
      "text/plain": [
       "array([25, 26, 27, 28, 29])"
      ]
     },
     "execution_count": 27,
     "metadata": {},
     "output_type": "execute_result"
    }
   ],
   "source": [
    "a+25"
   ]
  },
  {
   "cell_type": "code",
   "execution_count": 28,
   "id": "2ee1d2c4-a66a-4da4-87d2-715b23db8608",
   "metadata": {},
   "outputs": [
    {
     "data": {
      "text/plain": [
       "array([1.  , 1.44, 1.96, 2.56, 3.24])"
      ]
     },
     "execution_count": 28,
     "metadata": {},
     "output_type": "execute_result"
    }
   ],
   "source": [
    "b = (10 + (a*2))**2/100\n",
    "b"
   ]
  },
  {
   "cell_type": "code",
   "execution_count": 29,
   "id": "d8dbb42d-d5ee-4ef6-8d3c-4cbfbb59ca3c",
   "metadata": {},
   "outputs": [
    {
     "data": {
      "text/plain": [
       "array([False, False, False,  True,  True])"
      ]
     },
     "execution_count": 29,
     "metadata": {},
     "output_type": "execute_result"
    }
   ],
   "source": [
    "a > 2"
   ]
  },
  {
   "cell_type": "markdown",
   "id": "775e05be-cf10-4326-b9fe-619e5cdfb2ae",
   "metadata": {},
   "source": [
    "### Summarizing operations"
   ]
  },
  {
   "cell_type": "code",
   "execution_count": 30,
   "id": "5c258fc5-91a0-4226-9ed6-fb783efa248c",
   "metadata": {},
   "outputs": [
    {
     "data": {
      "text/plain": [
       "array([0, 1, 2, 3, 4])"
      ]
     },
     "execution_count": 30,
     "metadata": {},
     "output_type": "execute_result"
    }
   ],
   "source": [
    "a"
   ]
  },
  {
   "cell_type": "code",
   "execution_count": 31,
   "id": "0e06c3aa-7d66-4c64-a893-92633414ba10",
   "metadata": {},
   "outputs": [
    {
     "data": {
      "text/plain": [
       "np.float64(1.4142135623730951)"
      ]
     },
     "execution_count": 31,
     "metadata": {},
     "output_type": "execute_result"
    }
   ],
   "source": [
    "a.std()"
   ]
  },
  {
   "cell_type": "code",
   "execution_count": 33,
   "id": "085d4638-4bab-4ee8-b780-ffc3ec2fcd51",
   "metadata": {},
   "outputs": [
    {
     "data": {
      "text/plain": [
       "np.int64(0)"
      ]
     },
     "execution_count": 33,
     "metadata": {},
     "output_type": "execute_result"
    }
   ],
   "source": [
    "a.min()"
   ]
  },
  {
   "cell_type": "code",
   "execution_count": null,
   "id": "3a381c35-da48-49e7-bd5a-fcf2d790b801",
   "metadata": {},
   "outputs": [],
   "source": []
  }
 ],
 "metadata": {
  "kernelspec": {
   "display_name": "Python 3 (ipykernel)",
   "language": "python",
   "name": "python3"
  },
  "language_info": {
   "codemirror_mode": {
    "name": "ipython",
    "version": 3
   },
   "file_extension": ".py",
   "mimetype": "text/x-python",
   "name": "python",
   "nbconvert_exporter": "python",
   "pygments_lexer": "ipython3",
   "version": "3.12.1"
  }
 },
 "nbformat": 4,
 "nbformat_minor": 5
}
